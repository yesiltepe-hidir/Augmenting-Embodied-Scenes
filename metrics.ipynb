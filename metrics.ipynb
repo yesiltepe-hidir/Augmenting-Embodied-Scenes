{
 "cells": [
  {
   "cell_type": "code",
   "execution_count": 1,
   "metadata": {},
   "outputs": [],
   "source": [
    "from skimage.metrics import structural_similarity as ssim\n",
    "from skimage.metrics import mean_squared_error\n",
    "from skimage.io import imread\n"
   ]
  },
  {
   "cell_type": "code",
   "execution_count": 6,
   "metadata": {},
   "outputs": [
    {
     "name": "stdout",
     "output_type": "stream",
     "text": [
      "ssim with consistent 0.7981710942905597\n",
      "mse with consistent 0.03301305111625111\n",
      "ssim with non-consistent 0.7968963795900861\n",
      "mse with non-consistent 0.04085651243533231\n"
     ]
    }
   ],
   "source": [
    "from pathlib import Path\n",
    "\n",
    "original_paths_base_dir = Path(\"original\")\n",
    "edited_paths_base_dir = Path(\"edited_images\")\n",
    "edited_non_consistent_base_dir = Path(\"non_consistent_images\")\n",
    "\n",
    "original_depth_dir = original_paths_base_dir / \"depth\"\n",
    "edited_depth_dir = edited_paths_base_dir / \"depth\"\n",
    "edited_nc_depth_dir = edited_non_consistent_base_dir / \"depth\"\n",
    "\n",
    "original_depth_image_files = original_depth_dir.glob(\"*.png\")\n",
    "edited_depth_image_files = edited_depth_dir.glob(\"*.png\")\n",
    "edited_non_consistent_image_files = edited_nc_depth_dir.glob('*.png')\n",
    "\n",
    "original_depth_image_files = sorted(original_depth_image_files)\n",
    "edited_depth_image_files = sorted(edited_depth_image_files)\n",
    "edited_non_consistent_image_files = sorted(edited_non_consistent_image_files)\n",
    "\n",
    "ssim_scores = {}\n",
    "mse_errors = {}\n",
    "\n",
    "for original_depth_image_file, edited_depth_image_file in zip(original_depth_image_files, edited_depth_image_files):\n",
    "\n",
    "    orig_depth = imread(original_depth_image_file) / 255.\n",
    "    edit_depth = imread(edited_depth_image_file) / 255.\n",
    "    ssim_scores[str(original_depth_image_files)] = ssim(orig_depth, edit_depth, channel_axis=2, data_range=1)\n",
    "    mse_errors[str(original_depth_image_files)] = mean_squared_error(orig_depth, edit_depth)\n",
    "\n",
    "print(\"ssim with consistent\", sum(ssim_scores.values())/len(ssim_scores))\n",
    "print(\"mse with consistent\", sum(mse_errors.values())/len(mse_errors))\n",
    "\n",
    "ssim_scores = {}\n",
    "mse_errors = {}\n",
    "\n",
    "for original_depth_image_file, edited_depth_image_file in zip(original_depth_image_files, edited_non_consistent_image_files):\n",
    "    orig_depth = imread(original_depth_image_file) / 255.\n",
    "    edit_depth = imread(edited_depth_image_file) / 255.\n",
    "    ssim_scores[str(original_depth_image_file)] = ssim(orig_depth, edit_depth, channel_axis=2, data_range=1)\n",
    "    mse_errors[str(original_depth_image_file)] = mean_squared_error(orig_depth, edit_depth)\n",
    "    \n",
    "print(\"ssim with non-consistent\", sum(ssim_scores.values())/len(ssim_scores))\n",
    "print(\"mse with non-consistent\", sum(mse_errors.values())/len(mse_errors))"
   ]
  },
  {
   "cell_type": "code",
   "execution_count": 5,
   "metadata": {},
   "outputs": [
    {
     "name": "stdout",
     "output_type": "stream",
     "text": [
      "ssim with consistent 0.8107798207044729\n",
      "mse with consistent 0.03179823700776394\n",
      "ssim with non-consistent 0.8364939212395406\n",
      "mse with non-consistent 0.0279144006140764\n"
     ]
    }
   ],
   "source": [
    "from pathlib import Path\n",
    "\n",
    "original_paths_base_dir = Path(\"original\")\n",
    "edited_paths_base_dir = Path(\"edited_images\")\n",
    "edited_non_consistent_base_dir = Path(\"non_consistent_images\")\n",
    "\n",
    "original_normal_dir = original_paths_base_dir / \"normal\"\n",
    "edited_normal_dir = edited_paths_base_dir / \"normal\"\n",
    "edited_nc_normal_dir = edited_non_consistent_base_dir / \"normal\"\n",
    "\n",
    "original_normal_image_files = original_normal_dir.glob(\"*.png\")\n",
    "edited_normal_image_files = edited_normal_dir.glob(\"*.png\")\n",
    "edited_non_consistent_image_files = edited_nc_normal_dir.glob('*.png')\n",
    "\n",
    "original_normal_image_files = sorted(original_normal_image_files)\n",
    "edited_normal_image_files = sorted(edited_normal_image_files)\n",
    "edited_non_consistent_image_files = sorted(edited_non_consistent_image_files)\n",
    "\n",
    "ssim_scores = {}\n",
    "mse_errors = {}\n",
    "\n",
    "for original_normal_image_file, edited_normal_image_file in zip(original_normal_image_files, edited_normal_image_files):\n",
    "\n",
    "    orig_normal = imread(original_normal_image_file) / 255.\n",
    "    edit_normal = imread(edited_normal_image_file) / 255.\n",
    "    ssim_scores[str(original_normal_image_files)] = ssim(orig_normal, edit_normal, channel_axis=2, data_range=1)\n",
    "    mse_errors[str(original_normal_image_files)] = mean_squared_error(orig_normal, edit_normal)\n",
    "\n",
    "print(\"ssim with consistent\", sum(ssim_scores.values())/len(ssim_scores))\n",
    "print(\"mse with consistent\", sum(mse_errors.values())/len(mse_errors))\n",
    "\n",
    "ssim_scores = {}\n",
    "mse_errors = {}\n",
    "\n",
    "for original_normal_image_file, edited_normal_image_file in zip(original_normal_image_files, edited_non_consistent_image_files):\n",
    "    orig_normal = imread(original_normal_image_file) / 255.\n",
    "    edit_normal = imread(edited_normal_image_file) / 255.\n",
    "    ssim_scores[str(original_normal_image_file)] = ssim(orig_normal, edit_normal, channel_axis=2, data_range=1)\n",
    "    mse_errors[str(original_normal_image_file)] = mean_squared_error(orig_normal, edit_normal)\n",
    "    \n",
    "print(\"ssim with non-consistent\", sum(ssim_scores.values())/len(ssim_scores))\n",
    "print(\"mse with non-consistent\", sum(mse_errors.values())/len(mse_errors))"
   ]
  },
  {
   "cell_type": "code",
   "execution_count": 8,
   "metadata": {},
   "outputs": [
    {
     "name": "stdout",
     "output_type": "stream",
     "text": [
      "ssim with consistent 0.7758833487669922\n",
      "mse with consistent 0.034740447998046875\n",
      "ssim with non-consistent 0.7371008690602713\n",
      "mse with non-consistent 0.05274768829345703\n"
     ]
    }
   ],
   "source": [
    "from pathlib import Path\n",
    "\n",
    "original_paths_base_dir = Path(\"original\")\n",
    "edited_paths_base_dir = Path(\"edited_images\")\n",
    "edited_non_consistent_base_dir = Path(\"non_consistent_images\")\n",
    "\n",
    "original_canny_dir = original_paths_base_dir / \"canny\"\n",
    "edited_canny_dir = edited_paths_base_dir / \"canny\"\n",
    "edited_nc_canny_dir = edited_non_consistent_base_dir / \"canny\"\n",
    "\n",
    "original_canny_image_files = original_canny_dir.glob(\"*.png\")\n",
    "edited_canny_image_files = edited_canny_dir.glob(\"*.png\")\n",
    "edited_non_consistent_image_files = edited_nc_canny_dir.glob('*.png')\n",
    "\n",
    "original_canny_image_files = sorted(original_canny_image_files)\n",
    "edited_canny_image_files = sorted(edited_canny_image_files)\n",
    "edited_non_consistent_image_files = sorted(edited_non_consistent_image_files)\n",
    "\n",
    "ssim_scores = {}\n",
    "mse_errors = {}\n",
    "\n",
    "for original_canny_image_file, edited_canny_image_file in zip(original_canny_image_files, edited_canny_image_files):\n",
    "\n",
    "    orig_canny = imread(original_canny_image_file) / 255.\n",
    "    edit_canny = imread(edited_canny_image_file) / 255.\n",
    "    ssim_scores[str(original_canny_image_files)] = ssim(orig_canny, edit_canny, channel_axis=2, data_range=1)\n",
    "    mse_errors[str(original_canny_image_files)] = mean_squared_error(orig_canny, edit_canny)\n",
    "\n",
    "print(\"ssim with consistent\", sum(ssim_scores.values())/len(ssim_scores))\n",
    "print(\"mse with consistent\", sum(mse_errors.values())/len(mse_errors))\n",
    "\n",
    "ssim_scores = {}\n",
    "mse_errors = {}\n",
    "\n",
    "for original_canny_image_file, edited_canny_image_file in zip(original_canny_image_files, edited_non_consistent_image_files):\n",
    "    orig_canny = imread(original_canny_image_file) / 255.\n",
    "    edit_canny = imread(edited_canny_image_file) / 255.\n",
    "    ssim_scores[str(original_canny_image_file)] = ssim(orig_canny, edit_canny, channel_axis=2, data_range=1)\n",
    "    mse_errors[str(original_canny_image_file)] = mean_squared_error(orig_canny, edit_canny)\n",
    "    \n",
    "print(\"ssim with non-consistent\", sum(ssim_scores.values())/len(ssim_scores))\n",
    "print(\"mse with non-consistent\", sum(mse_errors.values())/len(mse_errors))"
   ]
  },
  {
   "cell_type": "code",
   "execution_count": null,
   "metadata": {},
   "outputs": [],
   "source": []
  },
  {
   "cell_type": "code",
   "execution_count": null,
   "metadata": {},
   "outputs": [],
   "source": []
  }
 ],
 "metadata": {
  "kernelspec": {
   "display_name": "allenact",
   "language": "python",
   "name": "python3"
  },
  "language_info": {
   "codemirror_mode": {
    "name": "ipython",
    "version": 3
   },
   "file_extension": ".py",
   "mimetype": "text/x-python",
   "name": "python",
   "nbconvert_exporter": "python",
   "pygments_lexer": "ipython3",
   "version": "3.8.18"
  }
 },
 "nbformat": 4,
 "nbformat_minor": 2
}
